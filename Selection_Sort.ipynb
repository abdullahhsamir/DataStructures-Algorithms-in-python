{
  "nbformat": 4,
  "nbformat_minor": 0,
  "metadata": {
    "colab": {
      "name": "Selection_sort.ipynb",
      "provenance": [],
      "authorship_tag": "ABX9TyPyg6dbz0LGuNIgLkw8IGYI",
      "include_colab_link": true
    },
    "kernelspec": {
      "name": "python3",
      "display_name": "Python 3"
    },
    "language_info": {
      "name": "python"
    }
  },
  "cells": [
    {
      "cell_type": "markdown",
      "metadata": {
        "id": "view-in-github",
        "colab_type": "text"
      },
      "source": [
        "<a href=\"https://colab.research.google.com/github/abdullahhsamir/Datastructure-Algorithms-in-python/blob/main/Selection_sort.ipynb\" target=\"_parent\"><img src=\"https://colab.research.google.com/assets/colab-badge.svg\" alt=\"Open In Colab\"/></a>"
      ]
    },
    {
      "cell_type": "markdown",
      "metadata": {
        "id": "LJtG4GYr6zX4"
      },
      "source": [
        "#Selection Sort\n",
        "this takes O(n × n) time or O(n2) time.\n",
        "\n",
        "Sorting algorithms are very useful. Now you can sort\n",
        "1. Names in a phone book\n",
        "2. Travel dates\n",
        "3. Emails (newest to oldest)"
      ]
    },
    {
      "cell_type": "code",
      "metadata": {
        "id": "5DQW4e8P0Mum"
      },
      "source": [
        "def find_smallest(arr):\n",
        "  smallest = arr[0]\n",
        "  smallest_index = 0\n",
        "  for i in range(1,len(arr)):\n",
        "    if smallest > arr[i]:\n",
        "      smallest = arr[i]\n",
        "      smallest_index = i\n",
        "  return smallest_index"
      ],
      "execution_count": 1,
      "outputs": []
    },
    {
      "cell_type": "code",
      "metadata": {
        "id": "V3cBicW-51_o"
      },
      "source": [
        "def selection_sort(arr):\n",
        "  sort_list = []\n",
        "  for i in range(len(arr)):\n",
        "    smallest = find_smallest(arr)\n",
        "    sort_list.append(arr.pop(smallest))\n",
        "  return  sort_list"
      ],
      "execution_count": 2,
      "outputs": []
    },
    {
      "cell_type": "code",
      "metadata": {
        "colab": {
          "base_uri": "https://localhost:8080/"
        },
        "id": "B0SQGiMO6Fzs",
        "outputId": "609b01dc-0356-4ceb-c580-00ebd6654afd"
      },
      "source": [
        "zz = [6,9,2,3,10]\n",
        "selection_sort(zz)"
      ],
      "execution_count": 3,
      "outputs": [
        {
          "output_type": "execute_result",
          "data": {
            "text/plain": [
              "[2, 3, 6, 9, 10]"
            ]
          },
          "metadata": {},
          "execution_count": 3
        }
      ]
    }
  ]
}
