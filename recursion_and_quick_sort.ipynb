{
  "nbformat": 4,
  "nbformat_minor": 0,
  "metadata": {
    "colab": {
      "name": "recursion and quick sort.ipynb",
      "provenance": [],
      "authorship_tag": "ABX9TyNR6p+GQ0AjzdjRxb7v3e96",
      "include_colab_link": true
    },
    "kernelspec": {
      "name": "python3",
      "display_name": "Python 3"
    },
    "language_info": {
      "name": "python"
    }
  },
  "cells": [
    {
      "cell_type": "markdown",
      "metadata": {
        "id": "view-in-github",
        "colab_type": "text"
      },
      "source": [
        "<a href=\"https://colab.research.google.com/github/abdullahhsamir/Datastructure-Algorithms-in-python/blob/main/recursion_and_quick_sort.ipynb\" target=\"_parent\"><img src=\"https://colab.research.google.com/assets/colab-badge.svg\" alt=\"Open In Colab\"/></a>"
      ]
    },
    {
      "cell_type": "markdown",
      "metadata": {
        "id": "R8zt2dUavBsc"
      },
      "source": [
        "## Recursion"
      ]
    },
    {
      "cell_type": "code",
      "metadata": {
        "id": "Malwt0n-WTYa"
      },
      "source": [
        "def sum(list):\n",
        "  if len(list) == 0:\n",
        "    return 0 \n",
        "  else:\n",
        "    return list.pop(0) + sum(list)"
      ],
      "execution_count": null,
      "outputs": []
    },
    {
      "cell_type": "code",
      "metadata": {
        "colab": {
          "base_uri": "https://localhost:8080/"
        },
        "id": "8xJicjDjWWs8",
        "outputId": "0b5302be-9712-4796-e727-f47b0b6da02a"
      },
      "source": [
        "lst = [1,2,3,4]\n",
        "sum(lst)"
      ],
      "execution_count": null,
      "outputs": [
        {
          "output_type": "execute_result",
          "data": {
            "text/plain": [
              "10"
            ]
          },
          "metadata": {},
          "execution_count": 2
        }
      ]
    },
    {
      "cell_type": "code",
      "metadata": {
        "id": "8bV19TXRXVQu"
      },
      "source": [
        "def max(list):\n",
        "  if len(list) == 1:\n",
        "    return list[0]\n",
        "  else:\n",
        "    m = max(list[1:])\n",
        "    if m > list[0]:\n",
        "      return m\n",
        "    else:\n",
        "      return list[0]"
      ],
      "execution_count": null,
      "outputs": []
    },
    {
      "cell_type": "code",
      "metadata": {
        "colab": {
          "base_uri": "https://localhost:8080/"
        },
        "id": "GaV2Ml3CjUI6",
        "outputId": "c08dae48-94ab-4941-d96d-56b1da2db4d4"
      },
      "source": [
        "lst = [1,2,3,4]\n",
        "max(lst)"
      ],
      "execution_count": null,
      "outputs": [
        {
          "output_type": "execute_result",
          "data": {
            "text/plain": [
              "4"
            ]
          },
          "metadata": {},
          "execution_count": 4
        }
      ]
    },
    {
      "cell_type": "code",
      "metadata": {
        "colab": {
          "base_uri": "https://localhost:8080/"
        },
        "id": "aQo5uLQFkT6J",
        "outputId": "42137932-7722-4f1d-9b4f-5d3ac23ce595"
      },
      "source": [
        "max([1,9,3,4])"
      ],
      "execution_count": null,
      "outputs": [
        {
          "output_type": "execute_result",
          "data": {
            "text/plain": [
              "9"
            ]
          },
          "metadata": {},
          "execution_count": 5
        }
      ]
    },
    {
      "cell_type": "code",
      "metadata": {
        "id": "dxE49bQVy7mf"
      },
      "source": [
        "%timeit\n",
        "def binary_search(list, target):    \n",
        "    if len(list) == 0:\n",
        "        return -1\n",
        "\n",
        "    if len(list) == 1 and list[0] == target:\n",
        "        return list[0]\n",
        "\n",
        "    if list[-1] < target:\n",
        "        return -1\n",
        "    else:\n",
        "        mid = len(list) // 2\n",
        "\n",
        "        if list[mid] == target:\n",
        "            return target\n",
        "\n",
        "        if list[mid] > target:\n",
        "            return binary_search(list[0:mid], target)\n",
        "\n",
        "        if list[mid] < target:\n",
        "            return binary_search(list[mid:list[-1]], target)\n"
      ],
      "execution_count": null,
      "outputs": []
    },
    {
      "cell_type": "code",
      "metadata": {
        "colab": {
          "base_uri": "https://localhost:8080/"
        },
        "id": "S0NnbFngw6X3",
        "outputId": "e9dac3d5-1869-4dc5-ff10-de6c389d8d56"
      },
      "source": [
        "%time\n",
        "binary_search([5,6,7,8],5)"
      ],
      "execution_count": null,
      "outputs": [
        {
          "output_type": "stream",
          "name": "stdout",
          "text": [
            "CPU times: user 3 µs, sys: 0 ns, total: 3 µs\n",
            "Wall time: 7.63 µs\n"
          ]
        },
        {
          "output_type": "execute_result",
          "data": {
            "text/plain": [
              "5"
            ]
          },
          "metadata": {},
          "execution_count": 10
        }
      ]
    },
    {
      "cell_type": "code",
      "metadata": {
        "colab": {
          "base_uri": "https://localhost:8080/"
        },
        "id": "LFdvMeZlw9Jv",
        "outputId": "223e0c8d-57f7-4bbd-a99d-de8a72a42428"
      },
      "source": [
        "binary_search([1,2,3,4,5,6,7,8,9,10,11,12,13,14,15,16,17,18,19,20],100)"
      ],
      "execution_count": null,
      "outputs": [
        {
          "output_type": "execute_result",
          "data": {
            "text/plain": [
              "-1"
            ]
          },
          "metadata": {},
          "execution_count": 11
        }
      ]
    },
    {
      "cell_type": "code",
      "metadata": {
        "colab": {
          "base_uri": "https://localhost:8080/"
        },
        "id": "Aj1XES0syWoo",
        "outputId": "0812546c-0c40-4115-cf98-2e60f1b9b33b"
      },
      "source": [
        "import numpy as np\n",
        "\n",
        "%time\n",
        "lst =  np.random.randint(low = 1 , high = 1000000, size = 1000000).tolist()\n",
        "lst.sort()"
      ],
      "execution_count": null,
      "outputs": [
        {
          "output_type": "stream",
          "name": "stdout",
          "text": [
            "CPU times: user 3 µs, sys: 0 ns, total: 3 µs\n",
            "Wall time: 6.91 µs\n"
          ]
        }
      ]
    },
    {
      "cell_type": "code",
      "metadata": {
        "colab": {
          "base_uri": "https://localhost:8080/"
        },
        "id": "ycdUte1y47Vb",
        "outputId": "6536c326-671e-4e1a-97be-8569d00d3787"
      },
      "source": [
        "lst[99999]"
      ],
      "execution_count": null,
      "outputs": [
        {
          "output_type": "execute_result",
          "data": {
            "text/plain": [
              "100381"
            ]
          },
          "metadata": {},
          "execution_count": 13
        }
      ]
    },
    {
      "cell_type": "code",
      "metadata": {
        "colab": {
          "base_uri": "https://localhost:8080/"
        },
        "id": "R8d8rhPi1gTr",
        "outputId": "c22d21d6-ec48-4a9b-945d-005f3718e361"
      },
      "source": [
        "%time\n",
        "binary_search(lst, 100381)"
      ],
      "execution_count": null,
      "outputs": [
        {
          "output_type": "stream",
          "name": "stdout",
          "text": [
            "CPU times: user 3 µs, sys: 0 ns, total: 3 µs\n",
            "Wall time: 7.39 µs\n"
          ]
        },
        {
          "output_type": "execute_result",
          "data": {
            "text/plain": [
              "100381"
            ]
          },
          "metadata": {},
          "execution_count": 17
        }
      ]
    },
    {
      "cell_type": "code",
      "metadata": {
        "colab": {
          "base_uri": "https://localhost:8080/"
        },
        "id": "G6u4JnkT3i_C",
        "outputId": "514515e0-3644-49e8-e69f-928610abbd82"
      },
      "source": [
        "%time\n",
        "for i in lst:\n",
        "  if i == 100381:\n",
        "    print(i)"
      ],
      "execution_count": null,
      "outputs": [
        {
          "output_type": "stream",
          "name": "stdout",
          "text": [
            "CPU times: user 3 µs, sys: 0 ns, total: 3 µs\n",
            "Wall time: 8.11 µs\n",
            "100381\n"
          ]
        }
      ]
    },
    {
      "cell_type": "markdown",
      "metadata": {
        "id": "CTu4rAXlwPS6"
      },
      "source": [
        "#Quick Sort\n",
        "\n",
        "<span> Reference: Grokking Algorithms </span>\n",
        "\n",
        "Quicksort is a sorting algorithm. It’s much faster than selection sort\n",
        "and is frequently used in real life\n",
        "\n",
        "Steps of Quick Sort Algorithm:\n",
        "\n",
        "1. Make base case\n",
        "2. Pick a pivot.\n",
        "3. Partition the array into two sub-arrays: elements less than the pivot\n",
        "and elements greater than the pivot.\n",
        "4. Call quicksort recursively on the two sub-arrays.\n",
        "\n",
        "Quicksort is unique because its speed depends on the pivot you choose. \n",
        "\n",
        "* In the worst case, quicksort takes O(n2) time\n",
        "\n",
        "* In the average case, quicksort takes O(n log n) time"
      ]
    },
    {
      "cell_type": "code",
      "metadata": {
        "id": "ilXeAbBU2NQh"
      },
      "source": [
        "def qsort(list):\n",
        "\n",
        "  if len(list) < 2:\n",
        "    return list\n",
        "  else:\n",
        "    pivot = list[0]\n",
        "    less = [i for i in list[1:] if i < pivot ]\n",
        "    greater = [i for i in list[1:] if i > pivot]\n",
        "    return qsort(less) + [pivot] + qsort(greater)"
      ],
      "execution_count": null,
      "outputs": []
    },
    {
      "cell_type": "code",
      "metadata": {
        "colab": {
          "base_uri": "https://localhost:8080/"
        },
        "id": "3lzDcPa-ypWe",
        "outputId": "49ad8294-2e7d-4ae7-e801-d23d55fc2fad"
      },
      "source": [
        "lst = [9,1,8,2,10]\n",
        "qsort(lst)"
      ],
      "execution_count": null,
      "outputs": [
        {
          "output_type": "execute_result",
          "data": {
            "text/plain": [
              "[1, 2, 8, 9, 10]"
            ]
          },
          "metadata": {},
          "execution_count": 23
        }
      ]
    }
  ]
}